{
 "cells": [
  {
   "cell_type": "code",
   "execution_count": 89,
   "metadata": {},
   "outputs": [],
   "source": [
    "from NCRAttachments import NCRAttachments\n",
    "from functools import lru_cache\n",
    "import time\n",
    "import asyncio\n",
    "import nest_asyncio\n",
    "nest_asyncio.apply()\n",
    "import json\n",
    "import requests"
   ]
  },
  {
   "cell_type": "code",
   "execution_count": 153,
   "metadata": {},
   "outputs": [],
   "source": [
    "CACHE_EXPIRY = 3600*24  # 1 day\n",
    "\n",
    "@lru_cache(maxsize=1)\n",
    "def get_cached_secrets(timestamp,secret_names=()):\n",
    "    # This function will only be called when the timestamp changes\n",
    "    # Implement your chosen method of secret retrieval here\n",
    "    # For this example, we'll use AWS Systems Manager Parameter Store\n",
    "    import boto3\n",
    "    session = boto3.Session(region_name='us-east-2')\n",
    "    ssm = session.client('ssm')\n",
    "    response = ssm.get_parameters(\n",
    "        Names=secret_names,\n",
    "        WithDecryption=True\n",
    "    )\n",
    "    return {param['Name']: param['Value'] for param in response['Parameters']}\n",
    "\n",
    "def get_secrets(secret_names):\n",
    "    # Round the current timestamp to the nearest hour\n",
    "    current_time = int(time.time() / CACHE_EXPIRY) * CACHE_EXPIRY\n",
    "    return get_cached_secrets(current_time,secret_names=secret_names)\n",
    "\n",
    "secrets = get_secrets(secret_names=('SHAREPOINT_TENANT_ID','SHAREPOINT_CLIENT_ID','SHAREPOINT_CLIENT_SECRET'))\n",
    "#print(secrets)"
   ]
  },
  {
   "cell_type": "code",
   "execution_count": 12,
   "metadata": {},
   "outputs": [],
   "source": [
    "credentials={\n",
    "            'tenant_name_or_id': secrets.get('SHAREPOINT_TENANT_ID'),\n",
    "            'client_id': secrets.get('SHAREPOINT_CLIENT_ID'),\n",
    "            'client_secret': secrets.get('SHAREPOINT_CLIENT_SECRET'),\n",
    "    }\n",
    "ncr_attachments = NCRAttachments(credentials)\n"
   ]
  },
  {
   "cell_type": "code",
   "execution_count": null,
   "metadata": {},
   "outputs": [],
   "source": [
    "ncrs = await ncr_attachments.list_all_NCRs()"
   ]
  },
  {
   "cell_type": "code",
   "execution_count": null,
   "metadata": {},
   "outputs": [],
   "source": [
    "len(ncrs)"
   ]
  },
  {
   "cell_type": "code",
   "execution_count": null,
   "metadata": {},
   "outputs": [],
   "source": [
    "ncrs[0].fields.__dict__"
   ]
  },
  {
   "cell_type": "code",
   "execution_count": null,
   "metadata": {},
   "outputs": [],
   "source": [
    "from microsoft_graph_accessor import MicrosoftGraphAccessor\n",
    "#attachments\n",
    "mga = MicrosoftGraphAccessor(credentials)\n",
    "##find site assets\n",
    "root = mga.get_root()\n",
    "sites = mga.get_drive_list_from_site(ncr_attachments.qc_site)\n",
    "[site.name for site in sites]"
   ]
  },
  {
   "cell_type": "code",
   "execution_count": null,
   "metadata": {},
   "outputs": [],
   "source": [
    "from msgraph.generated.sites.sites_request_builder import SitesRequestBuilder\n",
    "from kiota_abstractions.base_request_configuration import RequestConfiguration\n",
    "# To initialize your graph_client, see https://learn.microsoft.com/en-us/graph/sdks/create-client?from=snippets&tabs=python\n",
    "query_params = SitesRequestBuilder.SitesRequestBuilderGetQueryParameters(\n",
    "\t\tselect = [\"siteCollection\",\"webUrl\"],\n",
    "\t\tfilter = \"siteCollection/root ne null\",\n",
    ")\n",
    "\n",
    "request_configuration = RequestConfiguration(\n",
    "query_parameters = query_params,\n",
    ")\n",
    "await mga.msgraph_client.sites.get(request_configuration=request_configuration)"
   ]
  },
  {
   "cell_type": "code",
   "execution_count": null,
   "metadata": {},
   "outputs": [],
   "source": [
    "site_id = ncr_attachments.qc_site.id\n",
    "list_id = ncr_attachments.ncr_list.id\n",
    "item_id=2\n",
    "attachments_response = await mga.msgraph_client.sites.by_site_id(site_id).lists.by_list_id(list_id).items.by_list_item_id(item_id).get()\n",
    "attachments_response\n",
    "# attachments = attachments_response.json().get(\"value\", [])\n",
    "\n",
    "# for attachment in attachments:\n",
    "#     attachment_url = attachment.get(\"contentUrl\")\n",
    "#     print(f\"Attachment Name: {attachment['name']}, URL: {attachment_url}\")"
   ]
  },
  {
   "cell_type": "code",
   "execution_count": null,
   "metadata": {},
   "outputs": [],
   "source": []
  },
  {
   "cell_type": "code",
   "execution_count": null,
   "metadata": {},
   "outputs": [],
   "source": [
    "\n",
    "headers = {\n",
    "    \"Authorization\": f\"Bearer {sharepoint_access_token}\",\n",
    "    \"Accept\": \"application/json;odata=verbose\"\n",
    "}\n",
    "response = requests.get(url,headers=headers)\n",
    "print(response.__dict__)"
   ]
  },
  {
   "cell_type": "code",
   "execution_count": null,
   "metadata": {},
   "outputs": [],
   "source": [
    "print(ncr_attachments.ncr_list.id)\n",
    "await mga.msgraph_client.drives.by_drive_id().items.by_drive_item_id(2).get()"
   ]
  },
  {
   "cell_type": "code",
   "execution_count": 34,
   "metadata": {},
   "outputs": [],
   "source": []
  },
  {
   "cell_type": "code",
   "execution_count": null,
   "metadata": {},
   "outputs": [],
   "source": [
    "token"
   ]
  },
  {
   "cell_type": "code",
   "execution_count": null,
   "metadata": {},
   "outputs": [],
   "source": []
  },
  {
   "cell_type": "code",
   "execution_count": 154,
   "metadata": {},
   "outputs": [],
   "source": [
    "\n",
    "#json.loads(sharepoint_api_token.content)"
   ]
  },
  {
   "cell_type": "code",
   "execution_count": null,
   "metadata": {},
   "outputs": [],
   "source": [
    "import webbrowser\n",
    "tenant_id = secrets.get('SHAREPOINT_TENANT_ID')\n",
    "client_id = secrets.get('SHAREPOINT_CLIENT_ID')\n",
    "client_secret = secrets.get('SHAREPOINT_CLIENT_SECRET')\n",
    "redirect_uri = 'https://login.microsoftonline.com/common/oauth2/nativeclient'\n",
    "auth_url = f'''https://login.microsoftonline.com/{tenant_id}/oauth2/v2.0/authorize\n",
    "?client_id={client_id}\n",
    "&client_secret={client_secret}\n",
    "&response_type=code\n",
    "&redirect_uri={redirect_uri}\n",
    "&response_mode=query\n",
    "&scope=https://iscopipe.sharepoint.com/.default offline_access\n",
    "&state=12345'''\n",
    "\n",
    "print(auth_url)"
   ]
  },
  {
   "cell_type": "code",
   "execution_count": 146,
   "metadata": {},
   "outputs": [],
   "source": [
    "auth_code = '0.ARsA9eVuJpHbM0GmLNt63lMC86QeLxO63ktLqk-k6t1QKTUbAEw.AgABBAIAAADW6jl31mB3T7ugrWTT8pFeAwDs_wUA9P_iF9WrfSwuuiDYKf9k8vYMC822Fq6h-OkY_GZhWPMAI4rQofvwXvmcxA-_g163olt_9FelIC0IlqN0j9B4BA003LYMmMj9x8c-Hiir9298Ykc7Xh-VW4vZVHDqK8RY56cAGoRGp_tnPfaA1_VPpp4I_uSZEukkKs0-DianCOMcxpYuTnCFuSsIQrkN8909n7P4h7TITg7B6PWUvSNnSyliE2k3ifOQjl9nD9pFnGNsiD20Y-X0RNsZwD6_VFunMhnRxrr46FI1prgGAEB6zCtkYvNc9Tc2xpBV3zivCHLuAJF1VJkHDrWyzmmUXuZ9hCdNYggIEuPmQXErrn4LolVj0QtyP2oFpj5YTw-Soiy5Z3SB01VbmpAq-3wvU2XQpkFWNF4HksEY2J0vXRnyp3o74QnjmxdknKeCD2QflnRIcDa1z24NloUzvUaACpeD8Lu1qwC3L5ju8hLGU3bqGf5bXyfPTzxbBI0inAZexp_1ce_Sk3kU1GvQqWTFJ9L0P19T8_x4p5UG18C8viE3BCwLUEMakhY2qMR1xMZYwFlF-C_cAamDzAaCbbBHN7lnE9wK7N4w34d_YhSBsHBA56so4_ewZLUgMaVcq7mrN0hOqtWCRPNvLV9NFYieJDSnMGwhPkadGFdOpE-MRm2njwwnm12ARwXR3aeXMHVK3uaF7ark69Vg82g_uO0WM5PDvcDW87wJEnMhbDIJSrV1hr_WtDdJ4f7JF-oNzYjAGAPJX0SpJkDjtBnCH4FjN5jZs1WcsdkKpheOJTxW0XcC4Qk8Mcte3xtqLvqhL_U3fX6vm0IZH8HKEJqxxmdd0KNey7Jr3Q9ePVWE2QkeQvLSNxwRhCxk8qtYGY-yY6stI_aGd66sEzF7oNwEi7BsTArboVQPXa3v'"
   ]
  },
  {
   "cell_type": "code",
   "execution_count": null,
   "metadata": {},
   "outputs": [],
   "source": [
    "import requests\n",
    "import json\n",
    "\n",
    "# Get the token via the previously established process\n",
    "#token = mga.client.__dict__['_acquire_token_callback']()\n",
    "redirect_uri = \"https://login.microsoftonline.com/common/oauth2/nativeclient\"\n",
    "# Request data for getting access token\n",
    "request_data = {\n",
    "    'code': auth_code,\n",
    "    'client_id': secrets.get('SHAREPOINT_CLIENT_ID'),\n",
    "    'client_secret': secrets.get('SHAREPOINT_CLIENT_SECRET'),\n",
    "    'grant_type': 'authorization_code',\n",
    "    'scope': 'https://iscopipe.sharepoint.com/.default offline_access',\n",
    "    'redirect_uri': redirect_uri\n",
    "}\n",
    "\n",
    "tenant_id = secrets.get('SHAREPOINT_TENANT_ID')\n",
    "\n",
    "# Request to get the SharePoint API token\n",
    "sharepoint_api_token_request = requests.post(\n",
    "    f'https://login.microsoftonline.com/{tenant_id}/oauth2/v2.0/token',\n",
    "    data=request_data\n",
    ")\n",
    "\n",
    "sharepoint_api_token_request_content = json.loads(sharepoint_api_token_request.content)\n",
    "print(sharepoint_api_token_request_content)\n",
    "#Extract access token\n",
    "sharepoint_access_token = sharepoint_api_token_request_content['access_token']\n",
    "#\n",
    "# Verify the token length\n",
    "print(f\"Access token length: {len(sharepoint_access_token)}\")\n",
    "\n",
    "# Construct the SharePoint API URL\n",
    "tenant_id = 'iscopipe'\n",
    "list_name = 'NCR Log'\n",
    "item_id = '2'\n",
    "\n",
    "# Notice the corrected usage of double and single quotes in the URL\n",
    "url = f\"https://{tenant_id}.sharepoint.com/QC/_api/web/lists(guid'{ncr_attachments.ncr_list.id}')/items/GetById({item_id})/AttachmentFiles\"\n",
    "\n",
    "#url = \"https://iscopipe.sharepoint.com/QC/Lists/NCR%20Log/Attachments/2/\"\n",
    "\n",
    "print(f\"Generated URL: {url}\")\n",
    "\n",
    "# Headers for the GET request to access attachment files\n",
    "headers = {\n",
    "    \"Authorization\": f\"Bearer {sharepoint_access_token}\",\n",
    "    \"Accept\": \"application/json;odata=verbose\"\n",
    "}\n",
    "\n",
    "# Make the GET request to fetch the attachment files\n",
    "response = requests.get(url, headers=headers)\n",
    "\n",
    "# Print the response or handle errors\n",
    "if response.status_code == 200:\n",
    "    print(f\"Response: {response.json()}\")\n",
    "else:\n",
    "    print(f\"Error: {response.status_code}, {response.text}\")\n"
   ]
  },
  {
   "cell_type": "code",
   "execution_count": null,
   "metadata": {},
   "outputs": [],
   "source": [
    "headers = {\n",
    "    \"Authorization\": f\"Bearer {sharepoint_access_token}\",\n",
    "    \"Accept\": \"application/json;odata=verbose\"\n",
    "}\n",
    "\n",
    "url = \"https://iscopipe.sharepoint.com/QC/_api/Web/Lists(guid'c5325d9e-516d-4564-a8fa-18427ffe4ea7')/Items(2)/AttachmentFiles('Republic%20Services%20Perf%20Pattern.pdf')/$value\"\n",
    "\n",
    "response = requests.get(url, headers=headers)\n",
    "print(response.content)\n",
    "# Check if the request was successful\n",
    "if response.status_code == 200:\n",
    "    # Open a local file in write-binary mode to save the content\n",
    "    with open('Republic%20Services%20Perf%20Pattern.pdf', 'wb') as file:\n",
    "        file.write(response.content)  # Write the file content to disk\n",
    "    print(\"File downloaded successfully.\")\n",
    "else:\n",
    "    # Handle the error\n",
    "    print(f\"Error: {response.status_code}, {response.text}\")"
   ]
  },
  {
   "cell_type": "code",
   "execution_count": null,
   "metadata": {},
   "outputs": [],
   "source": []
  }
 ],
 "metadata": {
  "kernelspec": {
   "display_name": "Python 3",
   "language": "python",
   "name": "python3"
  },
  "language_info": {
   "codemirror_mode": {
    "name": "ipython",
    "version": 3
   },
   "file_extension": ".py",
   "mimetype": "text/x-python",
   "name": "python",
   "nbconvert_exporter": "python",
   "pygments_lexer": "ipython3",
   "version": "3.10.12"
  }
 },
 "nbformat": 4,
 "nbformat_minor": 2
}
